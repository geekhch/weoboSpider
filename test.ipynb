{
 "cells": [
  {
   "cell_type": "code",
   "execution_count": 64,
   "metadata": {},
   "outputs": [],
   "source": [
    "import json\n",
    "import pandas as pd\n",
    "from pymongo import MongoClient\n",
    "import jieba\n",
    "from wordcloud import WordCloud"
   ]
  },
  {
   "cell_type": "code",
   "execution_count": 3,
   "metadata": {},
   "outputs": [],
   "source": [
    "db = MongoClient()['weibo']\n",
    "users = db.get_collection('user')"
   ]
  },
  {
   "cell_type": "code",
   "execution_count": 16,
   "metadata": {},
   "outputs": [],
   "source": [
    "yc = users.find_one({'_id':5102089477})\n",
    "# test = {}\n",
    "# for k in ['_id', 'screen_name', 'statuses_count', 'verified', 'description', 'gender', 'urank', 'mbtype', 'avatar_hd', 'profile_api', 'weibo_api', 'album_api']:\n",
    "#     test[k] = []\n",
    "for k in ['_id', 'screen_name', 'statuses_count', 'verified', 'description', 'gender', 'urank', 'mbtype', 'avatar_hd', 'profile_api', 'weibo_api', 'album_api']:\n",
    "    test[k].append(yc[k])"
   ]
  },
  {
   "cell_type": "code",
   "execution_count": 71,
   "metadata": {},
   "outputs": [
    {
     "data": {
      "text/plain": [
       "<wordcloud.wordcloud.WordCloud at 0x21c8b54c748>"
      ]
     },
     "execution_count": 71,
     "metadata": {},
     "output_type": "execute_result"
    }
   ],
   "source": [
    "w.to_file('./test.png')"
   ]
  },
  {
   "cell_type": "code",
   "execution_count": 69,
   "metadata": {},
   "outputs": [],
   "source": [
    "w = wc.generate(\"\"\"【提名候选人】由独立评审提名的远东控股集团创始人<a href=\\'/n/蒋锡培\\'>@蒋锡培</a> ，正在参与\"\"\")"
   ]
  },
  {
   "cell_type": "code",
   "execution_count": 67,
   "metadata": {},
   "outputs": [],
   "source": [
    "wc = WordCloud(\n",
    "    background_color=\"white\",  # 设置背景颜色\n",
    "    max_words=200,  # 设置最大显示的词云数\n",
    "    font_path='C:/Windows/Fonts/simkai.ttf',  # 这种字体都在电脑字体中，一般路径\n",
    "    height=1200,\n",
    "    width=1600,\n",
    "    max_font_size=150,\n",
    "    random_state=30\n",
    ")"
   ]
  },
  {
   "cell_type": "code",
   "execution_count": 63,
   "metadata": {},
   "outputs": [
    {
     "data": {
      "text/plain": [
       "{'id': '4310573824684256',\n",
       " 'date': '8小时前',\n",
       " 'source': '专业版微博',\n",
       " 'reposts_count': 14,\n",
       " 'comments_count': 14,\n",
       " 'attitudes_count': 37,\n",
       " 'text': '【提名候选人】由独立评审提名的远东控股集团创始人<a href=\\'/n/蒋锡培\\'>@蒋锡培</a> ，正在参与2018<a  href=\"https://m.weibo.cn/search?containerid=231522type%3D1%26q%3D%23%E5%8D%81%E5%A4%A7%E7%BB%8F%E6%B5%8E%E5%B9%B4%E5%BA%A6%E4%BA%BA%E7%89%A9%23%26t%3D10&isnewpage=1&luicode=10000011&lfid=1076031638782947\" data-hide=\"\"><span class=\"surl-text\">#十大经济年度人物#</span></a>评选。他是你心中的中国经济榜样人物吗？网络票火热进行，投票猛戳：<a data-url=\"http://t.cn/EwNthWE\" href=\"http://feed.mix.sina.com.cn/link_card/redirect?url=http%3A%2F%2Ffinance.sina.cn%2Fzt_d%2F18ecoperson&from=1110006030&weiboauthoruid=1638782947&sendweibouid=1638782947&sinainternalbrowser=topnav&share_menu=1&luicode=10000011&lfid=1076031638782947\" data-hide=\"\"><span class=\\'url-icon\\'><img style=\\'width: 1rem;height: 1rem\\' src=\\'https://h5.sinaimg.cn/upload/2015/09/25/3/timeline_card_small_web_default.png\\'></span><span class=\"surl-text\">2018十大经济年度人物评选</span></a> ',\n",
       " 'repost': None}"
      ]
     },
     "execution_count": 63,
     "metadata": {},
     "output_type": "execute_result"
    }
   ],
   "source": [
    "users.find_one()['weibo'][0]\n",
    "    # ['id', 'date', 'source', 'reposts_count', 'comments_count', 'attitudes_count', 'text', 'repost']"
   ]
  }
 ],
 "metadata": {
  "kernelspec": {
   "display_name": "Python 3",
   "language": "python",
   "name": "python3"
  },
  "language_info": {
   "codemirror_mode": {
    "name": "ipython",
    "version": 3
   },
   "file_extension": ".py",
   "mimetype": "text/x-python",
   "name": "python",
   "nbconvert_exporter": "python",
   "pygments_lexer": "ipython3",
   "version": "3.7.0"
  }
 },
 "nbformat": 4,
 "nbformat_minor": 2
}
